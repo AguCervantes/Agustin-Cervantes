{
 "cells": [
  {
   "cell_type": "markdown",
   "id": "b21ef27a-66c6-4964-878a-06d4a966bc6a",
   "metadata": {},
   "source": [
    "# Proyecto de obtención de datos contables de Bancos Privados - Banco Central del Uruguay"
   ]
  },
  {
   "cell_type": "markdown",
   "id": "7245d865-10ba-4eff-8081-17b94c62ed84",
   "metadata": {},
   "source": [
    "## Objetivo \n",
    "\n",
    "El objetivo del proyecto de datos, es la obtención de información contable histórica de los Bancos Privados que operan en el mercado uruguayo. "
   ]
  },
  {
   "cell_type": "markdown",
   "id": "900a5e07-1b25-4283-bfc5-b820e1258f3f",
   "metadata": {},
   "source": [
    "## Fuente de datos \n",
    "\n",
    "La fuente de datos de esta información es el Banco Central del Uruguay (BCU), quien es órgano regulador de estas instituciones financieras, a quien deben reportar la información contable mensualmente.  "
   ]
  },
  {
   "cell_type": "markdown",
   "id": "3cf61a66-b186-4443-a94f-959dd2305b2b",
   "metadata": {},
   "source": [
    "## Desarrollo del proyecto"
   ]
  },
  {
   "cell_type": "code",
   "execution_count": 6,
   "id": "2b6fdf33-e8fa-4245-8be5-09371e31cd10",
   "metadata": {},
   "outputs": [],
   "source": [
    "# Se importan las librerías que se utilizarán durante el proyecto: \n",
    "\n",
    "import requests\n",
    "import pandas as pd\n",
    "from bs4 import BeautifulSoup\n",
    "from urllib.parse import urljoin\n",
    "import os\n",
    "import re"
   ]
  },
  {
   "cell_type": "markdown",
   "id": "d28e7ec2-28e6-4982-8d62-686a0adc1a9b",
   "metadata": {},
   "source": [
    "### Scrapping de archivos en la página del BCU\n",
    "\n",
    "El objetivo de esta sección, será la obtención de las URL's de los archivos de información financiera de los Bancos Privados (\"grupo997\").\n",
    "\n",
    "El BCU presenta mensualmente un \"Boletin Mensual\" desde donde iremos a buscar los archivos que necesitamos. La URL de estos listados tiene el siguiente formato: \"https://www.bcu.gub.uy/Servicios-Financieros-SSF/Boletin%20SSF/ **\"AÑO\"** / **\"MES\"** /indice.htm\". "
   ]
  },
  {
   "cell_type": "code",
   "execution_count": 7,
   "id": "fc200ecc-f17f-439c-b13b-c9f1afaa71cd",
   "metadata": {},
   "outputs": [],
   "source": [
    "# La página web del BCU tiene certificado SSL, por lo que será necesario deshabilitar la verificación:\n",
    "requests.packages.urllib3.disable_warnings() \n",
    "\n",
    "#Para acceder a los archivos, debo ir generando los links de los Boletines Mensuales: \n",
    "\n",
    "years = range(2016, 2024) #Se cuenta con datos mensuales desde el 2016 hasta la actualidad\n",
    "\n",
    "meses = [\"Enero\", \"Febrero\", \"Marzo\", \"Abril\", \"Mayo\", \"Junio\", \"Julio\", \"Agosto\", \"Setiembre\", \"Octubre\", \"Noviembre\", \"Diciembre\"] #Parte de la URL es el mes este formato\n",
    "\n",
    "url_base = \"https://www.bcu.gub.uy/Servicios-Financieros-SSF/Boletin%20SSF/{}/{}/indice.htm\" #La URL tendrá este formato base y recorrerá las dos listas creadas para ir buscando los archivos que requerimos.\n",
    "\n",
    "url_set = set() #Genero una lista donde se irán guardando las URL que encuentre\n"
   ]
  },
  {
   "cell_type": "markdown",
   "id": "59dc0860-c3c1-4619-a8fa-795715da3c9c",
   "metadata": {},
   "source": [
    "Con las listas generadas, comienzo a iterar en búsqueda de archivos XLS que contengan el número del grupo de los Bancos Privados: **\"977\"**"
   ]
  },
  {
   "cell_type": "code",
   "execution_count": 8,
   "id": "9680870a-f08d-4ca3-9bc7-f385eed6bc36",
   "metadata": {},
   "outputs": [],
   "source": [
    "for year in years:\n",
    "    for mes in meses:\n",
    "        \n",
    "        # Primero obtengo todos los links de la página con el URL creado:\n",
    "        \n",
    "        url = url_base.format(year, mes) # Construimos la URL con el año y mes actual\n",
    "        response = requests.get(url, verify=False) # Realizamos la solicitud HTTP sin verificar el certificado SSL\n",
    "        soup = BeautifulSoup(response.content, \"html.parser\") # Leemos el html para identificar todos los vínculos\n",
    "        links = soup.find_all('a', href=True) # Encontramos todos los enlaces en la página\n",
    "\n",
    "        # Luego busco los enlaces que contienen el número 997 en su texto, sean \"XLS\" y no sean de una institución en particular, sino del grupo977.\n",
    "        \n",
    "        for link in links:\n",
    "            full_url = urljoin(url, link['href'])\n",
    "            if '997' in link.text and full_url.lower().endswith('.xls') and 'institucion' not in full_url.lower():\n",
    "                url_set.add(full_url) # Agregamos la URL a la lista"
   ]
  },
  {
   "cell_type": "markdown",
   "id": "34b3edee-9d3c-4d9d-96d1-134b75578ab7",
   "metadata": {},
   "source": [
    "Luego de obtenidas todas las URL de los archivos que me interesan, las plasmo en un dataframe:"
   ]
  },
  {
   "cell_type": "code",
   "execution_count": 9,
   "id": "a193b8db-2cf4-4a8c-9662-8369217a098d",
   "metadata": {},
   "outputs": [
    {
     "name": "stdout",
     "output_type": "stream",
     "text": [
      "                                                  URL\n",
      "0   https://www.bcu.gub.uy/Servicios-Financieros-S...\n",
      "1   https://www.bcu.gub.uy/Servicios-Financieros-S...\n",
      "2   https://www.bcu.gub.uy/Servicios-Financieros-S...\n",
      "3   https://www.bcu.gub.uy/Servicios-Financieros-S...\n",
      "4   https://www.bcu.gub.uy/Servicios-Financieros-S...\n",
      "..                                                ...\n",
      "91  https://www.bcu.gub.uy/Servicios-Financieros-S...\n",
      "92  https://www.bcu.gub.uy/Servicios-Financieros-S...\n",
      "93  https://www.bcu.gub.uy/Servicios-Financieros-S...\n",
      "94  https://www.bcu.gub.uy/Servicios-Financieros-S...\n",
      "95  https://www.bcu.gub.uy/Servicios-Financieros-S...\n",
      "\n",
      "[96 rows x 1 columns]\n"
     ]
    }
   ],
   "source": [
    "# DataFrame con las URL encontradas\n",
    "df = pd.DataFrame(url_set, columns=['URL'])\n",
    "print(df)"
   ]
  },
  {
   "cell_type": "markdown",
   "id": "fdeb65bc-889a-48b9-8de3-0fb69f2b2fc3",
   "metadata": {},
   "source": [
    "### Descarga de archivos XLS\n",
    "\n",
    "El objetivo de esta sección será utilizar las URL anteriormente generadas, para descargar los archivos y guardarlos en la ruta que se especifique. \n",
    "\n",
    "**En caso de querer utilizar el código, modificar la \"ruta_descargas\" según su convencia**"
   ]
  },
  {
   "cell_type": "code",
   "execution_count": null,
   "id": "6bcc72f6-2af1-4b22-a868-965cc1642500",
   "metadata": {},
   "outputs": [
    {
     "name": "stdout",
     "output_type": "stream",
     "text": [
      "Descarga exitosa de Diciembre_2019_grupo997.xls.\n",
      "Descarga exitosa de Junio_2017_grupo997.xls.\n",
      "Descarga exitosa de Diciembre_2017_grupo997.xls.\n",
      "Descarga exitosa de Abril_2017_grupo997.xls.\n",
      "Descarga exitosa de Junio_2023_grupo997.xls.\n",
      "Descarga exitosa de Agosto_2022_grupo997.xls.\n",
      "Descarga exitosa de Setiembre_2020_grupo997.xls.\n",
      "Descarga exitosa de Noviembre_2023_grupo997.xls.\n",
      "Descarga exitosa de Enero_2016_grupo997.xls.\n",
      "Descarga exitosa de Octubre_2022_grupo997.xls.\n",
      "Descarga exitosa de Mayo_2020_grupo997.xls.\n",
      "Descarga exitosa de Marzo_2020_grupo997.xls.\n",
      "Descarga exitosa de Abril_2022_grupo997.xls.\n",
      "Descarga exitosa de Abril_2021_grupo997.xls.\n",
      "Descarga exitosa de Noviembre_2017_grupo997.xls.\n",
      "Descarga exitosa de Octubre_2023_grupo997.xls.\n",
      "Descarga exitosa de Junio_2019_grupo997.xls.\n",
      "Descarga exitosa de Noviembre_2016_grupo997.xls.\n",
      "Descarga exitosa de Setiembre_2017_grupo997.xls.\n",
      "Descarga exitosa de Julio_2019_grupo997.xls.\n",
      "Descarga exitosa de Agosto_2019_grupo997.xls.\n",
      "Descarga exitosa de Febrero_2023_grupo997.xls.\n",
      "Descarga exitosa de Enero_2018_grupo997.xls.\n",
      "Descarga exitosa de Setiembre_2022_grupo997.xls.\n",
      "Descarga exitosa de Marzo_2016_grupo997.xls.\n",
      "Descarga exitosa de Octubre_2021_grupo997.xls.\n",
      "Descarga exitosa de Febrero_2020_grupo997.xls.\n",
      "Descarga exitosa de Marzo_2021_grupo997.xls.\n",
      "Descarga exitosa de Octubre_2019_grupo997.xls.\n",
      "Descarga exitosa de Julio_2020_grupo997.xls.\n",
      "Descarga exitosa de Noviembre_2021_grupo997.xls.\n",
      "Descarga exitosa de Mayo_2022_grupo997.xls.\n",
      "Descarga exitosa de Mayo_2021_grupo997.xls.\n",
      "Descarga exitosa de Enero_2023_grupo997.xls.\n",
      "Descarga exitosa de Setiembre_2021_grupo997.xls.\n",
      "Descarga exitosa de Junio_2016_grupo997.xls.\n",
      "Descarga exitosa de Setiembre_2018_grupo997.xls.\n",
      "Descarga exitosa de Setiembre_2023_grupo997.xls.\n",
      "Descarga exitosa de Diciembre_2023_grupo997.xls.\n",
      "Descarga exitosa de Febrero_2019_grupo997.xls.\n",
      "Descarga exitosa de Agosto_2023_grupo997.xls.\n",
      "Descarga exitosa de Diciembre_2022_grupo997.xls.\n",
      "Descarga exitosa de Enero_2019_grupo997.xls.\n",
      "Descarga exitosa de Mayo_2023_grupo997.xls.\n",
      "Descarga exitosa de Diciembre_2016_grupo997.xls.\n",
      "Descarga exitosa de Noviembre_2022_grupo997.xls.\n",
      "Descarga exitosa de Agosto_2020_grupo997.xls.\n"
     ]
    }
   ],
   "source": [
    "ruta_descargas = \"XXXXX\" # Defino la ruta de descaga. \n",
    "\n",
    "# Comienzo a hacer la cescarga de archivos\n",
    "\n",
    "for url in df['URL']:\n",
    "    nombre_archivo = os.path.basename(url)\n",
    "    \n",
    "    # Quiero que al bajarse los archivos, se identifiquen por el mes y año al que corresponden, por lo que, los extraigo  año de la URL:\n",
    "    match = re.search(r'(\\d{4})/(\\w+)/', url)\n",
    "    if match:\n",
    "        year = match.group(1)\n",
    "        month = match.group(2)\n",
    "        nombre_archivo = f\"{month}_{year}_{nombre_archivo}\"\n",
    "\n",
    "    ruta_archivo = os.path.join(ruta_descargas, nombre_archivo)\n",
    "\n",
    "    # Descargo el contenido de la URL\n",
    "    response = requests.get(url, verify=False)\n",
    "\n",
    "    # Verifico si la descarga fue exitosa\n",
    "    if response.status_code == 200:\n",
    "        # En caso de que sea exitosa, guardo el contenido en un archivo\n",
    "        with open(ruta_archivo, 'wb') as f:\n",
    "            for chunk in response.iter_content(chunk_size=1024):\n",
    "                f.write(chunk)\n",
    "        print(f\"Descarga exitosa de {nombre_archivo}.\")\n",
    "    else:\n",
    "        print(f\"No se pudo descargar el contenido de la URL: {url}\")"
   ]
  }
 ],
 "metadata": {
  "kernelspec": {
   "display_name": "Python 3 (ipykernel)",
   "language": "python",
   "name": "python3"
  },
  "language_info": {
   "codemirror_mode": {
    "name": "ipython",
    "version": 3
   },
   "file_extension": ".py",
   "mimetype": "text/x-python",
   "name": "python",
   "nbconvert_exporter": "python",
   "pygments_lexer": "ipython3",
   "version": "3.12.0"
  }
 },
 "nbformat": 4,
 "nbformat_minor": 5
}
